{
 "cells": [
  {
   "cell_type": "code",
   "execution_count": 1,
   "id": "b68bc536-2bd8-4c21-a7a2-7d8fa693881f",
   "metadata": {},
   "outputs": [],
   "source": [
    "import numpy as np\n",
    "import matplotlib.pyplot as plt\n",
    "from matplotlib import animation as ani"
   ]
  },
  {
   "cell_type": "markdown",
   "id": "b52e50cc",
   "metadata": {},
   "source": [
    "# グラフの範囲を指定\n",
    "x_low  = -10\n",
    "x_high = 10\n",
    "y_low  = -10\n",
    "y_high = 10\n",
    "\n",
    "# 格子状に分割した各座標を作成\n",
    "X = np.linspace(x_low, x_high, 1000)\n",
    "Y = np.linspace(y_low, y_high, 1000)\n",
    "X, Y = np.meshgrid(X, Y)\n",
    "\n",
    "# 関数に従い曲面を作成\n",
    "Z = (3 * X ** 2) + (5 * Y ** 2) - (6 * X * Y)\n",
    "\n",
    "# 曲面の描画\n",
    "plt.figure(figsize=(8, 8))\n",
    "interval = np.arange(np.min(Z), np.max(Z), 50) # np.arrange(min, max, split_num)\n",
    "# counter_plane = plt.contour(X, Y, Z, interval) # contour 輪郭\n",
    "counter_plane = plt.contour(X, Y, Z, 20)\n",
    "# plt.clabel(counter_plane, inline=1, fontsize=8) #等高線のラベル名 \n",
    "plt.clabel(counter_plane, inline=1, fontsize=8) # inlineにすることでラベルが線と重ならなくなる\n",
    "plt.xlim(-10, 10)\n",
    "plt.ylim(-10, 10)\n",
    "plt.show()\n",
    "plt.close()"
   ]
  },
  {
   "cell_type": "code",
   "execution_count": null,
   "id": "813d46b3",
   "metadata": {},
   "outputs": [],
   "source": []
  }
 ],
 "metadata": {
  "kernelspec": {
   "display_name": "Python 3",
   "language": "python",
   "name": "python3"
  },
  "language_info": {
   "codemirror_mode": {
    "name": "ipython",
    "version": 3
   },
   "file_extension": ".py",
   "mimetype": "text/x-python",
   "name": "python",
   "nbconvert_exporter": "python",
   "pygments_lexer": "ipython3",
   "version": "3.9.2"
  }
 },
 "nbformat": 4,
 "nbformat_minor": 5
}
